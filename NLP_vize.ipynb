{
 "cells": [
  {
   "cell_type": "code",
   "execution_count": 1,
   "id": "1cd55098",
   "metadata": {},
   "outputs": [],
   "source": [
    "import pandas as pd\n",
    "import nltk\n",
    "veri = pd.read_csv(\"onislenmis_veriler.csv\") #Gerekli importlari yapip onislenmis verimi df degiskenine aktardim."
   ]
  },
  {
   "cell_type": "code",
   "execution_count": 2,
   "id": "0b0fd896",
   "metadata": {},
   "outputs": [],
   "source": [
    "df = pd.DataFrame(veri)\n",
    "df[\"cumleler\"] #Verileri hatirlamak amaciyla baktim.\n",
    "tf = df[\"cumleler\"].apply(lambda x : pd.value_counts(x.split(\" \"))).sum(axis=0).reset_index()\n",
    "tf.columns = [\"words\",\"tf\"]\n",
    "top_20_kelime =tf.sort_values(\"tf\", ascending=False).astype(str).head(20) #En cok gecen 20 kelime sayilariyla beraber ayiklanip yazdirildi."
   ]
  },
  {
   "cell_type": "code",
   "execution_count": 3,
   "id": "29e45a04",
   "metadata": {},
   "outputs": [],
   "source": [
    "yeni_top_20 = top_20_kelime[\"words\"].tolist()"
   ]
  },
  {
   "cell_type": "code",
   "execution_count": 4,
   "id": "86cfad35",
   "metadata": {},
   "outputs": [
    {
     "data": {
      "text/plain": [
       "['kisi',\n",
       " 'yok',\n",
       " 'adam',\n",
       " 'buyuk',\n",
       " 'erdogan',\n",
       " 'cumhurbaskani',\n",
       " 'tayyip',\n",
       " 'turkiye',\n",
       " 'son',\n",
       " 'tek',\n",
       " 'basbakan',\n",
       " 'oy',\n",
       " 'iyi',\n",
       " 'gun',\n",
       " 'zaman',\n",
       " 'bugun',\n",
       " 'ilk',\n",
       " 'recep',\n",
       " 'ulkenin',\n",
       " 'secim']"
      ]
     },
     "execution_count": 4,
     "metadata": {},
     "output_type": "execute_result"
    }
   ],
   "source": [
    "yeni_top_20\n"
   ]
  },
  {
   "cell_type": "code",
   "execution_count": 5,
   "id": "3a61019f",
   "metadata": {},
   "outputs": [],
   "source": [
    "#pip install gensim\n",
    "from gensim.models import Word2Vec\n",
    "from sklearn.metrics.pairwise import cosine_similarity"
   ]
  },
  {
   "cell_type": "code",
   "execution_count": 6,
   "id": "bb684da2",
   "metadata": {},
   "outputs": [],
   "source": [
    "word2vec_model = Word2Vec(sentences=[sentence.split() for sentence in df['cumleler']], vector_size=100, window=5, min_count=1, workers=4)"
   ]
  },
  {
   "cell_type": "code",
   "execution_count": 7,
   "id": "11f69129",
   "metadata": {},
   "outputs": [],
   "source": [
    "df['sentence_vectors'] = df['cumleler'].apply(lambda sentence: [word2vec_model.wv[word] for word in sentence.split()])\n"
   ]
  },
  {
   "cell_type": "code",
   "execution_count": 8,
   "id": "d6d84b3e",
   "metadata": {},
   "outputs": [],
   "source": [
    "df['similarities'] = df['sentence_vectors'].apply(lambda vectors: cosine_similarity(vectors))"
   ]
  },
  {
   "cell_type": "code",
   "execution_count": 9,
   "id": "7ce78847",
   "metadata": {},
   "outputs": [
    {
     "data": {
      "text/html": [
       "<div>\n",
       "<style scoped>\n",
       "    .dataframe tbody tr th:only-of-type {\n",
       "        vertical-align: middle;\n",
       "    }\n",
       "\n",
       "    .dataframe tbody tr th {\n",
       "        vertical-align: top;\n",
       "    }\n",
       "\n",
       "    .dataframe thead th {\n",
       "        text-align: right;\n",
       "    }\n",
       "</style>\n",
       "<table border=\"1\" class=\"dataframe\">\n",
       "  <thead>\n",
       "    <tr style=\"text-align: right;\">\n",
       "      <th></th>\n",
       "      <th>cumleler</th>\n",
       "      <th>similarities</th>\n",
       "    </tr>\n",
       "  </thead>\n",
       "  <tbody>\n",
       "    <tr>\n",
       "      <th>0</th>\n",
       "      <td>bilmem belli donem secilmis ust duzey devlet m...</td>\n",
       "      <td>[[1.0, 0.9530684, 0.94028735, 0.8845941, 0.941...</td>\n",
       "    </tr>\n",
       "    <tr>\n",
       "      <th>1</th>\n",
       "      <td>cumhurbaskanligi yeminin anlamini bilmeyen gec...</td>\n",
       "      <td>[[1.0, 0.32954547, 0.44048083, 0.89860845, 0.9...</td>\n",
       "    </tr>\n",
       "    <tr>\n",
       "      <th>2</th>\n",
       "      <td>yeni reklam yuzu</td>\n",
       "      <td>[[1.0, 0.82171446, 0.77576846], [0.82171446, 0...</td>\n",
       "    </tr>\n",
       "    <tr>\n",
       "      <th>3</th>\n",
       "      <td>baskanlik sistemini ulkeye kisi</td>\n",
       "      <td>[[1.0000001, 0.93418837, 0.9829614, 0.99208385...</td>\n",
       "    </tr>\n",
       "    <tr>\n",
       "      <th>4</th>\n",
       "      <td>dedem tvde gordugunde cikti dolu demiyor</td>\n",
       "      <td>[[0.99999994, 0.29318893, 0.23966292, 0.302052...</td>\n",
       "    </tr>\n",
       "    <tr>\n",
       "      <th>...</th>\n",
       "      <td>...</td>\n",
       "      <td>...</td>\n",
       "    </tr>\n",
       "    <tr>\n",
       "      <th>13937</th>\n",
       "      <td>akp iktidarinda yabancilara toprak</td>\n",
       "      <td>[[1.0, 0.80151653, 0.37598145, 0.68018246], [0...</td>\n",
       "    </tr>\n",
       "    <tr>\n",
       "      <th>13938</th>\n",
       "      <td>istanbul topraklarini yabancilara satmak</td>\n",
       "      <td>[[0.99999994, 0.22566557, 0.4098936, 0.5974073...</td>\n",
       "    </tr>\n",
       "    <tr>\n",
       "      <th>13939</th>\n",
       "      <td>yabancilara satisi</td>\n",
       "      <td>[[1.0000001, -0.003744225], [-0.003744225, 1.0]]</td>\n",
       "    </tr>\n",
       "    <tr>\n",
       "      <th>13940</th>\n",
       "      <td>yabancilarin bol bol toprak satin almasi</td>\n",
       "      <td>[[0.9999999, 0.38795546, 0.38795543, 0.306655,...</td>\n",
       "    </tr>\n",
       "    <tr>\n",
       "      <th>13941</th>\n",
       "      <td>babalar satariz</td>\n",
       "      <td>[[0.99999994, 0.018980749], [0.018980749, 0.99...</td>\n",
       "    </tr>\n",
       "  </tbody>\n",
       "</table>\n",
       "<p>13942 rows × 2 columns</p>\n",
       "</div>"
      ],
      "text/plain": [
       "                                                cumleler  \\\n",
       "0      bilmem belli donem secilmis ust duzey devlet m...   \n",
       "1      cumhurbaskanligi yeminin anlamini bilmeyen gec...   \n",
       "2                                       yeni reklam yuzu   \n",
       "3                        baskanlik sistemini ulkeye kisi   \n",
       "4               dedem tvde gordugunde cikti dolu demiyor   \n",
       "...                                                  ...   \n",
       "13937                 akp iktidarinda yabancilara toprak   \n",
       "13938           istanbul topraklarini yabancilara satmak   \n",
       "13939                                 yabancilara satisi   \n",
       "13940           yabancilarin bol bol toprak satin almasi   \n",
       "13941                                    babalar satariz   \n",
       "\n",
       "                                            similarities  \n",
       "0      [[1.0, 0.9530684, 0.94028735, 0.8845941, 0.941...  \n",
       "1      [[1.0, 0.32954547, 0.44048083, 0.89860845, 0.9...  \n",
       "2      [[1.0, 0.82171446, 0.77576846], [0.82171446, 0...  \n",
       "3      [[1.0000001, 0.93418837, 0.9829614, 0.99208385...  \n",
       "4      [[0.99999994, 0.29318893, 0.23966292, 0.302052...  \n",
       "...                                                  ...  \n",
       "13937  [[1.0, 0.80151653, 0.37598145, 0.68018246], [0...  \n",
       "13938  [[0.99999994, 0.22566557, 0.4098936, 0.5974073...  \n",
       "13939   [[1.0000001, -0.003744225], [-0.003744225, 1.0]]  \n",
       "13940  [[0.9999999, 0.38795546, 0.38795543, 0.306655,...  \n",
       "13941  [[0.99999994, 0.018980749], [0.018980749, 0.99...  \n",
       "\n",
       "[13942 rows x 2 columns]"
      ]
     },
     "execution_count": 9,
     "metadata": {},
     "output_type": "execute_result"
    }
   ],
   "source": [
    "df[['cumleler', 'similarities']] #Benzerlik analizi"
   ]
  },
  {
   "cell_type": "code",
   "execution_count": 10,
   "id": "411ab71e",
   "metadata": {},
   "outputs": [],
   "source": [
    "from nltk.tokenize import word_tokenize #model egitme"
   ]
  },
  {
   "cell_type": "code",
   "execution_count": 11,
   "id": "583f230c",
   "metadata": {},
   "outputs": [],
   "source": [
    "tokenized_data = [word_tokenize(sentence) for sentence in df[\"cumleler\"]]"
   ]
  },
  {
   "cell_type": "code",
   "execution_count": 12,
   "id": "8861d832",
   "metadata": {},
   "outputs": [],
   "source": [
    "model = Word2Vec(sentences=tokenized_data, vector_size=100, window=5, min_count=1, workers=4)"
   ]
  },
  {
   "cell_type": "code",
   "execution_count": 13,
   "id": "bc1926d6",
   "metadata": {},
   "outputs": [],
   "source": [
    "model.save(\"egitilmis_model.bin\")"
   ]
  },
  {
   "cell_type": "code",
   "execution_count": 14,
   "id": "8796c6d7",
   "metadata": {},
   "outputs": [],
   "source": [
    "model = Word2Vec.load(\"egitilmis_model.bin\") "
   ]
  },
  {
   "cell_type": "code",
   "execution_count": 15,
   "id": "ef8e7683",
   "metadata": {},
   "outputs": [],
   "source": [
    "similar_words_dict = {}"
   ]
  },
  {
   "cell_type": "code",
   "execution_count": 16,
   "id": "e93029e2",
   "metadata": {},
   "outputs": [],
   "source": [
    "for word in yeni_top_20: #egitilen modele gore benzer kelimeleri bulma\n",
    "    similar_words = model.wv.most_similar(word, topn=5)\n",
    "    similar_words_dict[word] = [similar_word for similar_word, _ in similar_words]"
   ]
  },
  {
   "cell_type": "code",
   "execution_count": 17,
   "id": "0e3896ff",
   "metadata": {},
   "outputs": [
    {
     "name": "stdout",
     "output_type": "stream",
     "text": [
      "kisi: ['bugun', 'oy', 'yok', 'son', 'iyi']\n",
      "yok: ['zaman', 'adam', 'son', 'gun', 'kisi']\n",
      "adam: ['son', 'yok', 'iyi', 'kisi', 'ulkenin']\n",
      "buyuk: ['zaman', 'yok', 'kisi', 'oy', 'son']\n",
      "erdogan: ['tayyip', 'erdogani', 'erdoganin', 'erdogana', 'adi']\n",
      "cumhurbaskani: ['buyuk', 'basbakan', 'yok', 'son', 'ulke']\n",
      "tayyip: ['erdogan', 'recep', 'erdogani', 'erdoganin', 'erdogana']\n",
      "turkiye: ['buyuk', 'turk', 'ilk', 'bugun', 'zaman']\n",
      "son: ['adam', 'yok', 'kisi', 'ulke', 'tek']\n",
      "tek: ['kisi', 'son', 'ulkenin', 'adam', 'yok']\n",
      "basbakan: ['iyi', 'ayni', 'cumhurbaskani', 'sadece', 'yok']\n",
      "oy: ['kisi', 'buyuk', 'adam', 'yok', 'son']\n",
      "iyi: ['zaman', 'kisi', 'yok', 'adam', 'son']\n",
      "gun: ['yok', 'kisi', 'zaman', 'sadece', 'buyuk']\n",
      "zaman: ['yok', 'iyi', 'buyuk', 'kisi', 'son']\n",
      "bugun: ['kisi', 'yok', 'zaman', 'adam', 'gun']\n",
      "ilk: ['yok', 'kisi', 'bugun', 'turk', 'son']\n",
      "recep: ['erdogan', 'tayyip', 'erdogani', 'bey', 'erdogandir']\n",
      "ulkenin: ['yok', 'tek', 'adam', 'iyi', 'son']\n",
      "secim: ['son', 'sadece', 'zaman', 'ulke', 'iyi']\n"
     ]
    }
   ],
   "source": [
    "for word, similar_words in similar_words_dict.items():\n",
    "    print(f\"{word}: {similar_words}\")\n"
   ]
  },
  {
   "cell_type": "code",
   "execution_count": 22,
   "id": "5967ebbf",
   "metadata": {},
   "outputs": [
    {
     "name": "stdout",
     "output_type": "stream",
     "text": [
      "\n",
      "1. Örnek Cümle: cumhurbaskanligi yeminin anlamini bilmeyen gecen kisilik kendinde olmadigini pesin pesin kabul kisidir\n",
      "En Benzer Üç Cümle:\n",
      "- pesin (Benzerlik Skoru: 0.61)\n",
      "- cumhurbaskanligi (Benzerlik Skoru: 0.22)\n",
      "- gecen (Benzerlik Skoru: 0.22)\n",
      "\n",
      "2. Örnek Cümle: milyonlarca insan aciklama beklerken sarayina ejder meyveli yudumluyor sanirim\n",
      "En Benzer Üç Cümle:\n",
      "- nicedir ortalarda yoktur ejder meyveli muhtemelen (Benzerlik Skoru: 0.34)\n",
      "- sarayinda gelen yudumluyor olabilir (Benzerlik Skoru: 0.23)\n",
      "- insan (Benzerlik Skoru: 0.22)\n",
      "\n",
      "3. Örnek Cümle: hayatta gun cumhurbaskanligi adayligi basbakan koltugundan istifa bilmek istedigim kisidir onsuz yasamak guzel bence\n",
      "En Benzer Üç Cümle:\n",
      "- guzel gun (Benzerlik Skoru: 0.28)\n",
      "- tek istedigim insan huzurlu yasamak (Benzerlik Skoru: 0.27)\n",
      "- cumhurbaskanligi secimi sonrasinda gormek istedigim basbakan (Benzerlik Skoru: 0.27)\n",
      "\n",
      "4. Örnek Cümle: yurtdisinda yasayan buyuk hizmetler goturen reisimsi disari yurda kalmiyor turkiye ulke olsaydi habire turkiyede tesekkur gonlum vermiyor edilmeyecek laflar ediyorum turkiye gormedi reisimsi\n",
      "En Benzer Üç Cümle:\n",
      "- turkiye (Benzerlik Skoru: 0.23)\n",
      "- turkiye (Benzerlik Skoru: 0.23)\n",
      "- turkiye (Benzerlik Skoru: 0.23)\n",
      "\n",
      "5. Örnek Cümle: turkiye cumhuriyeti cumhurbaskani rahat rahat atip tutuyor insani olduren milyonlarca insani evinden edip kaciran katil ruh hastasi esadin sucu yok taraftan amerikanin rusyanin avrupanin sucu yok turkiye teror karsi karsi savasiyor gelen geldigini bilen kisi katil ruh hastasi mezhepci esad sirf sunni insanlari ordusuyla olduruyor\n",
      "En Benzer Üç Cümle:\n",
      "- sucu yok (Benzerlik Skoru: 0.3)\n",
      "- yok yok katil (Benzerlik Skoru: 0.29)\n",
      "- katil (Benzerlik Skoru: 0.27)\n"
     ]
    }
   ],
   "source": [
    "\"\"\"from sklearn.feature_extraction.text import TfidfVectorizer\n",
    "from sklearn.metrics.pairwise import cosine_similarity\n",
    "\n",
    "# Önceden belirlenmiş cümleler\n",
    "secilen_cumleler = [\n",
    "    \"cumhurbaskanligi yeminin anlamini bilmeyen gecen kisilik kendinde olmadigini pesin pesin kabul kisidir\",\n",
    "    \"milyonlarca insan aciklama beklerken sarayina ejder meyveli yudumluyor sanirim\",\n",
    "    \"hayatta gun cumhurbaskanligi adayligi basbakan koltugundan istifa bilmek istedigim kisidir onsuz yasamak guzel bence\",\n",
    "    \"yurtdisinda yasayan buyuk hizmetler goturen reisimsi disari yurda kalmiyor turkiye ulke olsaydi habire turkiyede tesekkur gonlum vermiyor edilmeyecek laflar ediyorum turkiye gormedi reisimsi\",\n",
    "    \"turkiye cumhuriyeti cumhurbaskani rahat rahat atip tutuyor insani olduren milyonlarca insani evinden edip kaciran katil ruh hastasi esadin sucu yok taraftan amerikanin rusyanin avrupanin sucu yok turkiye teror karsi karsi savasiyor gelen geldigini bilen kisi katil ruh hastasi mezhepci esad sirf sunni insanlari ordusuyla olduruyor\"\n",
    "]\n",
    "\n",
    "# 'cumleler' sütununu seçme\n",
    "cumleler = veri['cumleler'].tolist()\n",
    "\n",
    "# TfidfVectorizer kullanarak metinleri vektörlere dönüştürme\n",
    "vectorizer = TfidfVectorizer()\n",
    "vectors = vectorizer.fit_transform(cumleler + secilen_cumleler)\n",
    "\n",
    "# Cümleler arasındaki benzerliği ölçme\n",
    "benzerlik_matrisi = cosine_similarity(vectors)\n",
    "\n",
    "for i, ornek_cümle in enumerate(secilen_cumleler):\n",
    "    benzerlik_skorları = benzerlik_matrisi[len(cumleler) + i][:len(cumleler)]\n",
    "    \n",
    "    # Kendisiyle eşleşen benzerlik skorlarını filtreleme\n",
    "    benzerlik_skorları = [(index, skor) for index, skor in enumerate(benzerlik_skorları) if cumleler[index] != ornek_cümle]\n",
    "    \n",
    "    # Benzerlik skorlarını sıralama ve en yüksek üç benzerlik skorunu al\n",
    "    en_benzer_cümleler_index = sorted(benzerlik_skorları, key=lambda x: x[1], reverse=True)[:3]\n",
    "    \n",
    "    # Sonuçları yazdırma\n",
    "    print(f\"\\n{str(i+1)}. Örnek Cümle: {ornek_cümle}\")\n",
    "    print(\"En Benzer Üç Cümle:\")\n",
    "    for index, skor in en_benzer_cümleler_index:\n",
    "        print(f\"- {cumleler[index]} (Benzerlik Skoru: {round(skor, 2)})\")\"\"\""
   ]
  },
  {
   "cell_type": "code",
   "execution_count": 23,
   "id": "248ecc30",
   "metadata": {},
   "outputs": [
    {
     "name": "stdout",
     "output_type": "stream",
     "text": [
      "                                                   Metin  Duygu Durumu Sonuç\n",
      "0      bilmem belli donem secilmis ust duzey devlet m...           0.0  Nötr\n",
      "1      cumhurbaskanligi yeminin anlamini bilmeyen gec...           0.0  Nötr\n",
      "2                                       yeni reklam yuzu           0.0  Nötr\n",
      "3                        baskanlik sistemini ulkeye kisi           0.0  Nötr\n",
      "4               dedem tvde gordugunde cikti dolu demiyor           0.0  Nötr\n",
      "...                                                  ...           ...   ...\n",
      "13937                 akp iktidarinda yabancilara toprak           0.0  Nötr\n",
      "13938           istanbul topraklarini yabancilara satmak           0.0  Nötr\n",
      "13939                                 yabancilara satisi           0.0  Nötr\n",
      "13940           yabancilarin bol bol toprak satin almasi           0.0  Nötr\n",
      "13941                                    babalar satariz           0.0  Nötr\n",
      "\n",
      "[13942 rows x 3 columns]\n"
     ]
    }
   ],
   "source": [
    "from textblob import TextBlob\n",
    "veri_seti = pd.read_csv(\"onislenmis_veriler.csv\")\n",
    "\n",
    "# Metin sütununu seçme\n",
    "metinler = veri_seti['cumleler'].tolist()\n",
    "\n",
    "# Duygu analizi yapma ve sonuçları saklama\n",
    "duygu_analizleri = []\n",
    "\n",
    "for metin in metinler:\n",
    "    blob = TextBlob(metin)\n",
    "    duygu_durumu = blob.sentiment.polarity\n",
    "    \n",
    "    if duygu_durumu > 0:\n",
    "        sonuc = \"Olumlu\"\n",
    "    elif duygu_durumu < 0:\n",
    "        sonuc = \"Olumsuz\"\n",
    "    else:\n",
    "        sonuc = \"Nötr\"\n",
    "    \n",
    "    duygu_analizi = {\"Metin\": metin, \"Duygu Durumu\": duygu_durumu, \"Sonuç\": sonuc}\n",
    "    duygu_analizleri.append(duygu_analizi)\n",
    "\n",
    "# Duygu analizi sonuçlarını DataFrame'e çevirme\n",
    "duygu_analiz_df = pd.DataFrame(duygu_analizleri)\n",
    "\n",
    "# Sonuçları yazdırma\n",
    "print(duygu_analiz_df)"
   ]
  },
  {
   "cell_type": "code",
   "execution_count": 28,
   "id": "abfae29b",
   "metadata": {},
   "outputs": [
    {
     "data": {
      "text/plain": [
       "Metin                                                                                                                                             Duygu Durumu  Sonuç\n",
       "gorsel                                                                                                                                            0.0           Nötr     45\n",
       "recep tayyip erdogan                                                                                                                              0.0           Nötr     19\n",
       "imla                                                                                                                                              0.0           Nötr     18\n",
       "kaynak                                                                                                                                            0.0           Nötr     18\n",
       "yap                                                                                                                                               0.0           Nötr     13\n",
       "                                                                                                                                                                         ..\n",
       "gectigimiz gerceklesen zaman baslamistir bagira bagira konusurken olmustur                                                                        0.0           Nötr      1\n",
       "gectigimiz hafta avrupa asi ucretli demisti bugun bizde avrupa ucretsiz duzeltme allah akil fikir versin                                          0.0           Nötr      1\n",
       "gectim partisinin adi adalet kalkinma hemen gundem ornek vereyim tahminimce partisinin adina uzun vadeli plani budur diyebiliriz adalet kalkinma  0.0           Nötr      1\n",
       "gectim umarim ileride cocuklarimiz adamla birlikte ayni ulke topraklarinda                                                                        0.0           Nötr      1\n",
       "karsi kara bedelinin lazim                                                                                                                        0.0           Nötr      1\n",
       "Name: count, Length: 13265, dtype: int64"
      ]
     },
     "execution_count": 28,
     "metadata": {},
     "output_type": "execute_result"
    }
   ],
   "source": [
    "duygu_analiz_df.value_counts()"
   ]
  },
  {
   "cell_type": "code",
   "execution_count": 29,
   "id": "c89caa17",
   "metadata": {},
   "outputs": [
    {
     "name": "stdout",
     "output_type": "stream",
     "text": [
      "Olumlu Sayısı: 78\n",
      "Olumsuz Sayısı: 27\n",
      "Nötr Sayısı: 13837\n"
     ]
    }
   ],
   "source": [
    "olumlu_sayisi = duygu_analiz_df[duygu_analiz_df['Sonuç'] == 'Olumlu'].shape[0]\n",
    "olumsuz_sayisi = duygu_analiz_df[duygu_analiz_df['Sonuç'] == 'Olumsuz'].shape[0]\n",
    "notr_sayisi = duygu_analiz_df[duygu_analiz_df['Sonuç'] == 'Nötr'].shape[0]\n",
    "\n",
    "# Sonuçları yazdırma\n",
    "print(f\"Olumlu Sayısı: {olumlu_sayisi}\")\n",
    "print(f\"Olumsuz Sayısı: {olumsuz_sayisi}\")\n",
    "print(f\"Nötr Sayısı: {notr_sayisi}\")"
   ]
  },
  {
   "cell_type": "code",
   "execution_count": null,
   "id": "7f43a0fc",
   "metadata": {},
   "outputs": [],
   "source": []
  }
 ],
 "metadata": {
  "kernelspec": {
   "display_name": "Python 3 (ipykernel)",
   "language": "python",
   "name": "python3"
  },
  "language_info": {
   "codemirror_mode": {
    "name": "ipython",
    "version": 3
   },
   "file_extension": ".py",
   "mimetype": "text/x-python",
   "name": "python",
   "nbconvert_exporter": "python",
   "pygments_lexer": "ipython3",
   "version": "3.11.5"
  }
 },
 "nbformat": 4,
 "nbformat_minor": 5
}
